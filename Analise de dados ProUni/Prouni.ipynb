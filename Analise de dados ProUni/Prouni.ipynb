{
 "cells": [
  {
   "cell_type": "markdown",
   "metadata": {},
   "source": [
    "# <font color='blue'>Análise dos dados do Prouni</font>"
   ]
  },
  {
   "cell_type": "code",
   "execution_count": 1,
   "metadata": {},
   "outputs": [],
   "source": [
    "#Importação das Bibliotecas \n",
    "import pandas as pd\n",
    "import numpy as np\n",
    "import matplotlib.pyplot as plt\n",
    "import statsmodels.api as sm\n",
    "from scipy import stats\n",
    "from sklearn.linear_model import LinearRegression\n",
    "import warnings\n",
    "warnings.filterwarnings('ignore')"
   ]
  },
  {
   "cell_type": "markdown",
   "metadata": {},
   "source": [
    "## Importação das bases do Prouni"
   ]
  },
  {
   "cell_type": "code",
   "execution_count": 2,
   "metadata": {},
   "outputs": [
    {
     "data": {
      "text/plain": [
       "(2164089, 15)"
      ]
     },
     "execution_count": 2,
     "metadata": {},
     "output_type": "execute_result"
    }
   ],
   "source": [
    "# df_2018 = pd.read_csv('/media/joao/DATA/TCE/Bases/Prouni_2018.csv', sep=',') #Linux\n",
    "\n",
    "df_2018 = pd.read_csv('Bases/Prouni_2018.csv', sep=';') #Windows \n",
    "# df_2018.head() \n",
    "# df_2018.shape\n",
    "\n",
    "df_2017 = pd.read_csv('Bases/Prouni_2017.csv', sep=';') #Windows \n",
    "# df_2017.head() \n",
    "# df_2017.shape\n",
    "\n",
    "df_2016 = pd.read_csv('Bases/Prouni_2016.csv', sep=';') #Windows \n",
    "# df_2016.head() \n",
    "# df_2016.shape\n",
    "\n",
    "df_2015 = pd.read_csv('Bases/Prouni_2015.csv', sep=';') #Windows \n",
    "# df_2015.head() \n",
    "# df_2015.shape\n",
    "\n",
    "df_2014 = pd.read_csv('Bases/Prouni_2014.csv', sep=';') #Windows \n",
    "# df_2014.head() \n",
    "# df_2014.shape\n",
    "\n",
    "df_2013 = pd.read_csv('Bases/Prouni_2013.csv', sep=';') #Windows \n",
    "# df_2013.head() \n",
    "# df_2013.shape\n",
    "\n",
    "df_2012 = pd.read_csv('Bases/Prouni_2012.csv', sep=';') #Windows \n",
    "# df_2012.head() \n",
    "# df_2012.shape\n",
    "\n",
    "df_2011 = pd.read_csv('Bases/Prouni_2011.csv', sep=';') #Windows \n",
    "# df_2011.head() \n",
    "# df_2011.shape\n",
    "\n",
    "df_2010 = pd.read_csv('Bases/Prouni_2010.csv', sep=';') #Windows \n",
    "# df_2010.head() \n",
    "# df_2010.shape\n",
    "\n",
    "df_2009 = pd.read_csv('Bases/Prouni_2009.csv', sep=';') #Windows \n",
    "# df_2009.head() \n",
    "# df_2009.shape\n",
    "\n",
    "df_2008 = pd.read_csv('Bases/Prouni_2008.csv', sep=';') #Windows \n",
    "# df_2008.head() \n",
    "# df_2008.shape\n",
    "\n",
    "df_municipios = pd.concat([df_2008, df_2009, df_2010, df_2011, df_2012, \n",
    "                           df_2013, df_2014, df_2015, df_2016, df_2017, df_2018])\n",
    "df_municipios.shape"
   ]
  },
  {
   "cell_type": "markdown",
   "metadata": {},
   "source": [
    "## Bolsas de santos por ano "
   ]
  },
  {
   "cell_type": "code",
   "execution_count": 3,
   "metadata": {},
   "outputs": [
    {
     "data": {
      "text/plain": [
       "MUNICIPIO_BENEFICIARIO_BOLSA  ANO_CONCESSAO_BOLSA\n",
       "SANTOS                        2008                   187\n",
       "                              2009                   376\n",
       "                              2010                   284\n",
       "                              2011                   367\n",
       "                              2012                   377\n",
       "                              2013                   362\n",
       "                              2014                   476\n",
       "                              2015                   596\n",
       "                              2016                   630\n",
       "                              2017                   598\n",
       "                              2018                   455\n",
       "dtype: int64"
      ]
     },
     "execution_count": 3,
     "metadata": {},
     "output_type": "execute_result"
    }
   ],
   "source": [
    "df_santos = df_municipios[df_municipios.MUNICIPIO_BENEFICIARIO_BOLSA == \"SANTOS\"]\n",
    "df_santos_ano = df_santos.set_index(['MUNICIPIO_BENEFICIARIO_BOLSA','ANO_CONCESSAO_BOLSA'])\n",
    "df_santos_ano = df_santos_ano.groupby(level = ['MUNICIPIO_BENEFICIARIO_BOLSA', 'ANO_CONCESSAO_BOLSA'])\n",
    "df_santos_ano = df_santos_ano.size()  #Tamanho de cada Grupo \n",
    "df_santos_ano"
   ]
  },
  {
   "cell_type": "markdown",
   "metadata": {},
   "source": [
    "## Bolsas de santos por ano e por curso"
   ]
  },
  {
   "cell_type": "code",
   "execution_count": 4,
   "metadata": {},
   "outputs": [
    {
     "data": {
      "text/plain": [
       "NOME_CURSO_BOLSA   ANO_CONCESSAO_BOLSA\n",
       "Direito            2016                   69\n",
       "Administração      2009                   68\n",
       "                   2016                   61\n",
       "Direito            2015                   61\n",
       "Administração      2014                   58\n",
       "                   2015                   57\n",
       "                   2011                   56\n",
       "ADMINISTRAÇÃO      2018                   54\n",
       "DIREITO            2017                   53\n",
       "Administração      2012                   51\n",
       "                   2013                   45\n",
       "ADMINISTRAÇÃO      2017                   45\n",
       "DIREITO            2018                   44\n",
       "Direito            2014                   41\n",
       "Administração      2010                   39\n",
       "Comércio Exterior  2015                   36\n",
       "                   2014                   35\n",
       "                   2012                   33\n",
       "Engenharia Civil   2014                   31\n",
       "                   2015                   31\n",
       "dtype: int64"
      ]
     },
     "execution_count": 4,
     "metadata": {},
     "output_type": "execute_result"
    }
   ],
   "source": [
    "#Subset dos dados por Curso e por ano\n",
    "df_curso_santos = df_santos.set_index(['NOME_CURSO_BOLSA','ANO_CONCESSAO_BOLSA'])\n",
    "df_curso_santos = df_curso_santos.groupby(level = ['NOME_CURSO_BOLSA', 'ANO_CONCESSAO_BOLSA'])\n",
    "df_curso_santos = df_curso_santos.size()           #Tamanho de cada Grupo \n",
    "df_curso_santos = df_curso_santos.sort_values(ascending = False)\n",
    "df_curso_santos.head(20) "
   ]
  },
  {
   "cell_type": "markdown",
   "metadata": {},
   "source": [
    "## Tratamento dos dados "
   ]
  },
  {
   "cell_type": "code",
   "execution_count": 5,
   "metadata": {},
   "outputs": [],
   "source": [
    "# Tratamento dos dados para correção de letras Maíusculas e Minúsculas \n",
    "\n",
    "df_curso_santos = pd.DataFrame(df_curso_santos) # Conversão para DataFrame para usar os métodos dos Pandas\n",
    "df_curso_santos = df_curso_santos.reset_index()"
   ]
  },
  {
   "cell_type": "code",
   "execution_count": 6,
   "metadata": {},
   "outputs": [
    {
     "data": {
      "text/html": [
       "<div>\n",
       "<style scoped>\n",
       "    .dataframe tbody tr th:only-of-type {\n",
       "        vertical-align: middle;\n",
       "    }\n",
       "\n",
       "    .dataframe tbody tr th {\n",
       "        vertical-align: top;\n",
       "    }\n",
       "\n",
       "    .dataframe thead th {\n",
       "        text-align: right;\n",
       "    }\n",
       "</style>\n",
       "<table border=\"1\" class=\"dataframe\">\n",
       "  <thead>\n",
       "    <tr style=\"text-align: right;\">\n",
       "      <th></th>\n",
       "      <th>NOME_CURSO_BOLSA</th>\n",
       "      <th>ANO</th>\n",
       "      <th>QUANTIDADE_BOLSAS</th>\n",
       "    </tr>\n",
       "  </thead>\n",
       "  <tbody>\n",
       "    <tr>\n",
       "      <th>0</th>\n",
       "      <td>Direito</td>\n",
       "      <td>2016</td>\n",
       "      <td>69</td>\n",
       "    </tr>\n",
       "    <tr>\n",
       "      <th>1</th>\n",
       "      <td>Administração</td>\n",
       "      <td>2009</td>\n",
       "      <td>68</td>\n",
       "    </tr>\n",
       "    <tr>\n",
       "      <th>2</th>\n",
       "      <td>Administração</td>\n",
       "      <td>2016</td>\n",
       "      <td>61</td>\n",
       "    </tr>\n",
       "    <tr>\n",
       "      <th>3</th>\n",
       "      <td>Direito</td>\n",
       "      <td>2015</td>\n",
       "      <td>61</td>\n",
       "    </tr>\n",
       "    <tr>\n",
       "      <th>4</th>\n",
       "      <td>Administração</td>\n",
       "      <td>2014</td>\n",
       "      <td>58</td>\n",
       "    </tr>\n",
       "    <tr>\n",
       "      <th>5</th>\n",
       "      <td>Administração</td>\n",
       "      <td>2015</td>\n",
       "      <td>57</td>\n",
       "    </tr>\n",
       "    <tr>\n",
       "      <th>6</th>\n",
       "      <td>Administração</td>\n",
       "      <td>2011</td>\n",
       "      <td>56</td>\n",
       "    </tr>\n",
       "    <tr>\n",
       "      <th>7</th>\n",
       "      <td>ADMINISTRAÇÃO</td>\n",
       "      <td>2018</td>\n",
       "      <td>54</td>\n",
       "    </tr>\n",
       "    <tr>\n",
       "      <th>8</th>\n",
       "      <td>DIREITO</td>\n",
       "      <td>2017</td>\n",
       "      <td>53</td>\n",
       "    </tr>\n",
       "    <tr>\n",
       "      <th>9</th>\n",
       "      <td>Administração</td>\n",
       "      <td>2012</td>\n",
       "      <td>51</td>\n",
       "    </tr>\n",
       "    <tr>\n",
       "      <th>10</th>\n",
       "      <td>Administração</td>\n",
       "      <td>2013</td>\n",
       "      <td>45</td>\n",
       "    </tr>\n",
       "    <tr>\n",
       "      <th>11</th>\n",
       "      <td>ADMINISTRAÇÃO</td>\n",
       "      <td>2017</td>\n",
       "      <td>45</td>\n",
       "    </tr>\n",
       "    <tr>\n",
       "      <th>12</th>\n",
       "      <td>DIREITO</td>\n",
       "      <td>2018</td>\n",
       "      <td>44</td>\n",
       "    </tr>\n",
       "    <tr>\n",
       "      <th>13</th>\n",
       "      <td>Direito</td>\n",
       "      <td>2014</td>\n",
       "      <td>41</td>\n",
       "    </tr>\n",
       "    <tr>\n",
       "      <th>14</th>\n",
       "      <td>Administração</td>\n",
       "      <td>2010</td>\n",
       "      <td>39</td>\n",
       "    </tr>\n",
       "  </tbody>\n",
       "</table>\n",
       "</div>"
      ],
      "text/plain": [
       "   NOME_CURSO_BOLSA   ANO  QUANTIDADE_BOLSAS\n",
       "0           Direito  2016                 69\n",
       "1     Administração  2009                 68\n",
       "2     Administração  2016                 61\n",
       "3           Direito  2015                 61\n",
       "4     Administração  2014                 58\n",
       "5     Administração  2015                 57\n",
       "6     Administração  2011                 56\n",
       "7     ADMINISTRAÇÃO  2018                 54\n",
       "8           DIREITO  2017                 53\n",
       "9     Administração  2012                 51\n",
       "10    Administração  2013                 45\n",
       "11    ADMINISTRAÇÃO  2017                 45\n",
       "12          DIREITO  2018                 44\n",
       "13          Direito  2014                 41\n",
       "14    Administração  2010                 39"
      ]
     },
     "execution_count": 6,
     "metadata": {},
     "output_type": "execute_result"
    }
   ],
   "source": [
    "df_curso_santos = df_curso_santos.rename(columns = {'NOME_CURSO_BOLSA':'NOME_CURSO_BOLSA', \n",
    "                                  'ANO_CONCESSAO_BOLSA':'ANO',\n",
    "                                   0:'QUANTIDADE_BOLSAS'})\n",
    "df_curso_santos.head(15)"
   ]
  },
  {
   "cell_type": "code",
   "execution_count": 7,
   "metadata": {},
   "outputs": [
    {
     "data": {
      "text/html": [
       "<div>\n",
       "<style scoped>\n",
       "    .dataframe tbody tr th:only-of-type {\n",
       "        vertical-align: middle;\n",
       "    }\n",
       "\n",
       "    .dataframe tbody tr th {\n",
       "        vertical-align: top;\n",
       "    }\n",
       "\n",
       "    .dataframe thead th {\n",
       "        text-align: right;\n",
       "    }\n",
       "</style>\n",
       "<table border=\"1\" class=\"dataframe\">\n",
       "  <thead>\n",
       "    <tr style=\"text-align: right;\">\n",
       "      <th></th>\n",
       "      <th>NOME_CURSO_BOLSA</th>\n",
       "      <th>ANO</th>\n",
       "      <th>QUANTIDADE_BOLSAS</th>\n",
       "      <th>CURSO</th>\n",
       "    </tr>\n",
       "  </thead>\n",
       "  <tbody>\n",
       "    <tr>\n",
       "      <th>0</th>\n",
       "      <td>Direito</td>\n",
       "      <td>2016</td>\n",
       "      <td>69</td>\n",
       "      <td>DIREITO</td>\n",
       "    </tr>\n",
       "    <tr>\n",
       "      <th>1</th>\n",
       "      <td>Administração</td>\n",
       "      <td>2009</td>\n",
       "      <td>68</td>\n",
       "      <td>ADMINISTRAÇÃO</td>\n",
       "    </tr>\n",
       "    <tr>\n",
       "      <th>2</th>\n",
       "      <td>Administração</td>\n",
       "      <td>2016</td>\n",
       "      <td>61</td>\n",
       "      <td>ADMINISTRAÇÃO</td>\n",
       "    </tr>\n",
       "    <tr>\n",
       "      <th>3</th>\n",
       "      <td>Direito</td>\n",
       "      <td>2015</td>\n",
       "      <td>61</td>\n",
       "      <td>DIREITO</td>\n",
       "    </tr>\n",
       "    <tr>\n",
       "      <th>4</th>\n",
       "      <td>Administração</td>\n",
       "      <td>2014</td>\n",
       "      <td>58</td>\n",
       "      <td>ADMINISTRAÇÃO</td>\n",
       "    </tr>\n",
       "    <tr>\n",
       "      <th>5</th>\n",
       "      <td>Administração</td>\n",
       "      <td>2015</td>\n",
       "      <td>57</td>\n",
       "      <td>ADMINISTRAÇÃO</td>\n",
       "    </tr>\n",
       "    <tr>\n",
       "      <th>6</th>\n",
       "      <td>Administração</td>\n",
       "      <td>2011</td>\n",
       "      <td>56</td>\n",
       "      <td>ADMINISTRAÇÃO</td>\n",
       "    </tr>\n",
       "    <tr>\n",
       "      <th>7</th>\n",
       "      <td>ADMINISTRAÇÃO</td>\n",
       "      <td>2018</td>\n",
       "      <td>54</td>\n",
       "      <td>ADMINISTRAÇÃO</td>\n",
       "    </tr>\n",
       "    <tr>\n",
       "      <th>8</th>\n",
       "      <td>DIREITO</td>\n",
       "      <td>2017</td>\n",
       "      <td>53</td>\n",
       "      <td>DIREITO</td>\n",
       "    </tr>\n",
       "    <tr>\n",
       "      <th>9</th>\n",
       "      <td>Administração</td>\n",
       "      <td>2012</td>\n",
       "      <td>51</td>\n",
       "      <td>ADMINISTRAÇÃO</td>\n",
       "    </tr>\n",
       "    <tr>\n",
       "      <th>10</th>\n",
       "      <td>Administração</td>\n",
       "      <td>2013</td>\n",
       "      <td>45</td>\n",
       "      <td>ADMINISTRAÇÃO</td>\n",
       "    </tr>\n",
       "    <tr>\n",
       "      <th>11</th>\n",
       "      <td>ADMINISTRAÇÃO</td>\n",
       "      <td>2017</td>\n",
       "      <td>45</td>\n",
       "      <td>ADMINISTRAÇÃO</td>\n",
       "    </tr>\n",
       "    <tr>\n",
       "      <th>12</th>\n",
       "      <td>DIREITO</td>\n",
       "      <td>2018</td>\n",
       "      <td>44</td>\n",
       "      <td>DIREITO</td>\n",
       "    </tr>\n",
       "    <tr>\n",
       "      <th>13</th>\n",
       "      <td>Direito</td>\n",
       "      <td>2014</td>\n",
       "      <td>41</td>\n",
       "      <td>DIREITO</td>\n",
       "    </tr>\n",
       "    <tr>\n",
       "      <th>14</th>\n",
       "      <td>Administração</td>\n",
       "      <td>2010</td>\n",
       "      <td>39</td>\n",
       "      <td>ADMINISTRAÇÃO</td>\n",
       "    </tr>\n",
       "  </tbody>\n",
       "</table>\n",
       "</div>"
      ],
      "text/plain": [
       "   NOME_CURSO_BOLSA   ANO  QUANTIDADE_BOLSAS          CURSO\n",
       "0           Direito  2016                 69        DIREITO\n",
       "1     Administração  2009                 68  ADMINISTRAÇÃO\n",
       "2     Administração  2016                 61  ADMINISTRAÇÃO\n",
       "3           Direito  2015                 61        DIREITO\n",
       "4     Administração  2014                 58  ADMINISTRAÇÃO\n",
       "5     Administração  2015                 57  ADMINISTRAÇÃO\n",
       "6     Administração  2011                 56  ADMINISTRAÇÃO\n",
       "7     ADMINISTRAÇÃO  2018                 54  ADMINISTRAÇÃO\n",
       "8           DIREITO  2017                 53        DIREITO\n",
       "9     Administração  2012                 51  ADMINISTRAÇÃO\n",
       "10    Administração  2013                 45  ADMINISTRAÇÃO\n",
       "11    ADMINISTRAÇÃO  2017                 45  ADMINISTRAÇÃO\n",
       "12          DIREITO  2018                 44        DIREITO\n",
       "13          Direito  2014                 41        DIREITO\n",
       "14    Administração  2010                 39  ADMINISTRAÇÃO"
      ]
     },
     "execution_count": 7,
     "metadata": {},
     "output_type": "execute_result"
    }
   ],
   "source": [
    "# Converte o nome do curso para letras Maíusculas \n",
    "df_curso_santos['CURSO'] = [x.upper() for x in df_curso_santos['NOME_CURSO_BOLSA']]\n",
    "df_curso_santos.head(15)"
   ]
  },
  {
   "cell_type": "code",
   "execution_count": 8,
   "metadata": {},
   "outputs": [
    {
     "data": {
      "text/html": [
       "<div>\n",
       "<style scoped>\n",
       "    .dataframe tbody tr th:only-of-type {\n",
       "        vertical-align: middle;\n",
       "    }\n",
       "\n",
       "    .dataframe tbody tr th {\n",
       "        vertical-align: top;\n",
       "    }\n",
       "\n",
       "    .dataframe thead th {\n",
       "        text-align: right;\n",
       "    }\n",
       "</style>\n",
       "<table border=\"1\" class=\"dataframe\">\n",
       "  <thead>\n",
       "    <tr style=\"text-align: right;\">\n",
       "      <th></th>\n",
       "      <th>CURSO</th>\n",
       "      <th>ANO</th>\n",
       "      <th>QUANTIDADE_BOLSAS</th>\n",
       "    </tr>\n",
       "  </thead>\n",
       "  <tbody>\n",
       "    <tr>\n",
       "      <th>0</th>\n",
       "      <td>DIREITO</td>\n",
       "      <td>2016</td>\n",
       "      <td>69</td>\n",
       "    </tr>\n",
       "    <tr>\n",
       "      <th>1</th>\n",
       "      <td>ADMINISTRAÇÃO</td>\n",
       "      <td>2009</td>\n",
       "      <td>68</td>\n",
       "    </tr>\n",
       "    <tr>\n",
       "      <th>2</th>\n",
       "      <td>ADMINISTRAÇÃO</td>\n",
       "      <td>2016</td>\n",
       "      <td>61</td>\n",
       "    </tr>\n",
       "    <tr>\n",
       "      <th>3</th>\n",
       "      <td>DIREITO</td>\n",
       "      <td>2015</td>\n",
       "      <td>61</td>\n",
       "    </tr>\n",
       "    <tr>\n",
       "      <th>4</th>\n",
       "      <td>ADMINISTRAÇÃO</td>\n",
       "      <td>2014</td>\n",
       "      <td>58</td>\n",
       "    </tr>\n",
       "    <tr>\n",
       "      <th>5</th>\n",
       "      <td>ADMINISTRAÇÃO</td>\n",
       "      <td>2015</td>\n",
       "      <td>57</td>\n",
       "    </tr>\n",
       "    <tr>\n",
       "      <th>6</th>\n",
       "      <td>ADMINISTRAÇÃO</td>\n",
       "      <td>2011</td>\n",
       "      <td>56</td>\n",
       "    </tr>\n",
       "    <tr>\n",
       "      <th>7</th>\n",
       "      <td>ADMINISTRAÇÃO</td>\n",
       "      <td>2018</td>\n",
       "      <td>54</td>\n",
       "    </tr>\n",
       "    <tr>\n",
       "      <th>8</th>\n",
       "      <td>DIREITO</td>\n",
       "      <td>2017</td>\n",
       "      <td>53</td>\n",
       "    </tr>\n",
       "    <tr>\n",
       "      <th>9</th>\n",
       "      <td>ADMINISTRAÇÃO</td>\n",
       "      <td>2012</td>\n",
       "      <td>51</td>\n",
       "    </tr>\n",
       "    <tr>\n",
       "      <th>11</th>\n",
       "      <td>ADMINISTRAÇÃO</td>\n",
       "      <td>2017</td>\n",
       "      <td>45</td>\n",
       "    </tr>\n",
       "    <tr>\n",
       "      <th>10</th>\n",
       "      <td>ADMINISTRAÇÃO</td>\n",
       "      <td>2013</td>\n",
       "      <td>45</td>\n",
       "    </tr>\n",
       "    <tr>\n",
       "      <th>12</th>\n",
       "      <td>DIREITO</td>\n",
       "      <td>2018</td>\n",
       "      <td>44</td>\n",
       "    </tr>\n",
       "    <tr>\n",
       "      <th>13</th>\n",
       "      <td>DIREITO</td>\n",
       "      <td>2014</td>\n",
       "      <td>41</td>\n",
       "    </tr>\n",
       "    <tr>\n",
       "      <th>14</th>\n",
       "      <td>ADMINISTRAÇÃO</td>\n",
       "      <td>2010</td>\n",
       "      <td>39</td>\n",
       "    </tr>\n",
       "    <tr>\n",
       "      <th>15</th>\n",
       "      <td>COMÉRCIO EXTERIOR</td>\n",
       "      <td>2015</td>\n",
       "      <td>36</td>\n",
       "    </tr>\n",
       "    <tr>\n",
       "      <th>16</th>\n",
       "      <td>COMÉRCIO EXTERIOR</td>\n",
       "      <td>2014</td>\n",
       "      <td>35</td>\n",
       "    </tr>\n",
       "    <tr>\n",
       "      <th>17</th>\n",
       "      <td>COMÉRCIO EXTERIOR</td>\n",
       "      <td>2012</td>\n",
       "      <td>33</td>\n",
       "    </tr>\n",
       "    <tr>\n",
       "      <th>18</th>\n",
       "      <td>ENGENHARIA CIVIL</td>\n",
       "      <td>2014</td>\n",
       "      <td>31</td>\n",
       "    </tr>\n",
       "    <tr>\n",
       "      <th>19</th>\n",
       "      <td>ENGENHARIA CIVIL</td>\n",
       "      <td>2015</td>\n",
       "      <td>31</td>\n",
       "    </tr>\n",
       "  </tbody>\n",
       "</table>\n",
       "</div>"
      ],
      "text/plain": [
       "                CURSO   ANO  QUANTIDADE_BOLSAS\n",
       "0             DIREITO  2016                 69\n",
       "1       ADMINISTRAÇÃO  2009                 68\n",
       "2       ADMINISTRAÇÃO  2016                 61\n",
       "3             DIREITO  2015                 61\n",
       "4       ADMINISTRAÇÃO  2014                 58\n",
       "5       ADMINISTRAÇÃO  2015                 57\n",
       "6       ADMINISTRAÇÃO  2011                 56\n",
       "7       ADMINISTRAÇÃO  2018                 54\n",
       "8             DIREITO  2017                 53\n",
       "9       ADMINISTRAÇÃO  2012                 51\n",
       "11      ADMINISTRAÇÃO  2017                 45\n",
       "10      ADMINISTRAÇÃO  2013                 45\n",
       "12            DIREITO  2018                 44\n",
       "13            DIREITO  2014                 41\n",
       "14      ADMINISTRAÇÃO  2010                 39\n",
       "15  COMÉRCIO EXTERIOR  2015                 36\n",
       "16  COMÉRCIO EXTERIOR  2014                 35\n",
       "17  COMÉRCIO EXTERIOR  2012                 33\n",
       "18   ENGENHARIA CIVIL  2014                 31\n",
       "19   ENGENHARIA CIVIL  2015                 31"
      ]
     },
     "execution_count": 8,
     "metadata": {},
     "output_type": "execute_result"
    }
   ],
   "source": [
    "# Criação do Subset tratado com dos dados de cursos por ano e no munícipio de Santos\n",
    "\n",
    "df_cursos = df_curso_santos[['CURSO','ANO','QUANTIDADE_BOLSAS']]   \n",
    "df_curso_santos = df_cursos.sort_values('QUANTIDADE_BOLSAS', ascending = False)\n",
    "df_curso_santos.head(20)"
   ]
  },
  {
   "cell_type": "code",
   "execution_count": 9,
   "metadata": {},
   "outputs": [],
   "source": [
    "# Identifica qual é o curso com mais bolsas no municipio de Santos \n",
    "\n",
    "df_direito = df_cursos[df_cursos.CURSO == 'DIREITO'] \n",
    "df_agg_direito = df_direito.groupby('CURSO').sum()\n",
    "\n",
    "df_adm = df_cursos[df_cursos.CURSO == 'ADMINISTRAÇÃO']\n",
    "df_agg_adm = df_adm.groupby('CURSO').sum()\n"
   ]
  },
  {
   "cell_type": "code",
   "execution_count": 10,
   "metadata": {},
   "outputs": [],
   "source": [
    "# Concatena os subsets de Direito e Adminstração \n",
    "df_bolsas = pd.concat([df_agg_direito[['QUANTIDADE_BOLSAS']],df_agg_adm[['QUANTIDADE_BOLSAS']]])"
   ]
  },
  {
   "cell_type": "code",
   "execution_count": 11,
   "metadata": {},
   "outputs": [
    {
     "data": {
      "text/html": [
       "<div>\n",
       "<style scoped>\n",
       "    .dataframe tbody tr th:only-of-type {\n",
       "        vertical-align: middle;\n",
       "    }\n",
       "\n",
       "    .dataframe tbody tr th {\n",
       "        vertical-align: top;\n",
       "    }\n",
       "\n",
       "    .dataframe thead th {\n",
       "        text-align: right;\n",
       "    }\n",
       "</style>\n",
       "<table border=\"1\" class=\"dataframe\">\n",
       "  <thead>\n",
       "    <tr style=\"text-align: right;\">\n",
       "      <th></th>\n",
       "      <th>QUANTIDADE_BOLSAS</th>\n",
       "    </tr>\n",
       "    <tr>\n",
       "      <th>CURSO</th>\n",
       "      <th></th>\n",
       "    </tr>\n",
       "  </thead>\n",
       "  <tbody>\n",
       "    <tr>\n",
       "      <th>ADMINISTRAÇÃO</th>\n",
       "      <td>558</td>\n",
       "    </tr>\n",
       "    <tr>\n",
       "      <th>DIREITO</th>\n",
       "      <td>425</td>\n",
       "    </tr>\n",
       "  </tbody>\n",
       "</table>\n",
       "</div>"
      ],
      "text/plain": [
       "               QUANTIDADE_BOLSAS\n",
       "CURSO                           \n",
       "ADMINISTRAÇÃO                558\n",
       "DIREITO                      425"
      ]
     },
     "execution_count": 11,
     "metadata": {},
     "output_type": "execute_result"
    }
   ],
   "source": [
    "#Apresenta a base concatenada\n",
    "df_bolsas.sort_values('QUANTIDADE_BOLSAS', ascending = False)"
   ]
  },
  {
   "cell_type": "markdown",
   "metadata": {},
   "source": [
    "## Relação entre o número de bolsas concedidas e bolsas para a um curso específico"
   ]
  },
  {
   "cell_type": "markdown",
   "metadata": {},
   "source": [
    "### Implementação de Modelo de Machine Learning : Regressão Linear"
   ]
  },
  {
   "cell_type": "markdown",
   "metadata": {},
   "source": [
    "### <font color='blue'>Dos conjuntos de técnicas de regressão, a regressão linear é a mais simples em análises de dados que procuram entender a relação entre o comportamento de determinado fenômeno e o comportamento de uma variávvel, sem que haja, entretanto uma obrigatória relação de causa e efeito.</font>"
   ]
  },
  {
   "cell_type": "markdown",
   "metadata": {},
   "source": [
    "### 1º Passo: Verificar a relação entre as variáveis por meio do Gráfico de Dispersão"
   ]
  },
  {
   "cell_type": "markdown",
   "metadata": {},
   "source": [
    "### Curso de Administração "
   ]
  },
  {
   "cell_type": "code",
   "execution_count": 24,
   "metadata": {},
   "outputs": [
    {
     "data": {
      "image/png": "[encoded data removed]",
      "text/plain": [
       "<Figure size 432x288 with 1 Axes>"
      ]
     },
     "metadata": {
      "needs_background": "light"
     },
     "output_type": "display_data"
    }
   ],
   "source": [
    "# Scatter Plot representando a dispersão dos dados \n",
    "x = df_santos_ano.values                  # Eixo x do gráfico: Número de bolsas por ano no município de Santos \n",
    "\n",
    "df_adm  = df_adm .sort_values('ANO')      # Eixo y do gráfico: Número de bolsa por ano para o curso de Administração\n",
    "y = df_adm ['QUANTIDADE_BOLSAS']\n",
    "\n",
    "plt.scatter(x, y,  color = 'green')\n",
    "plt.xlabel('Número Totais de Bolsas')\n",
    "plt.ylabel('Bolsas em Administração')\n",
    "plt.title('Curso Administração x Bolsas Totais Prouni')\n",
    "plt.grid(True)\n",
    "plt.show()"
   ]
  },
  {
   "cell_type": "markdown",
   "metadata": {},
   "source": [
    "### Curso de Direito"
   ]
  },
  {
   "cell_type": "code",
   "execution_count": 28,
   "metadata": {},
   "outputs": [
    {
     "data": {
      "image/png": "[encoded data removed]",
      "text/plain": [
       "<Figure size 432x288 with 1 Axes>"
      ]
     },
     "metadata": {
      "needs_background": "light"
     },
     "output_type": "display_data"
    }
   ],
   "source": [
    "# Scatter Plot representando a dispersão dos dados \n",
    "x = df_santos_ano.values                           # Eixo x do gráfico: Número de bolsas por ano no município de Santos \n",
    "\n",
    "df_direito  = df_direito.sort_values('ANO')        # Eixo y do gráfico: Número de bolsa por ano para o curso de Direito\n",
    "y = df_direito['QUANTIDADE_BOLSAS']\n",
    "\n",
    "plt.scatter(x, y,  color = 'blue')\n",
    "plt.xlabel('Número Totais de Bolsas')\n",
    "plt.ylabel('Bolsas em Direito')\n",
    "plt.title('Curso Direito x Bolsas Totais Prouni')\n",
    "plt.grid(True)\n",
    "plt.show()\n"
   ]
  },
  {
   "cell_type": "markdown",
   "metadata": {},
   "source": [
    "### 2º Passo: Traçar a Reta de Projeção"
   ]
  },
  {
   "cell_type": "markdown",
   "metadata": {},
   "source": [
    "## Pacote StatsModel "
   ]
  },
  {
   "cell_type": "code",
   "execution_count": 25,
   "metadata": {},
   "outputs": [
    {
     "data": {
      "image/png": "[encoded data removed]",
      "text/plain": [
       "<Figure size 432x288 with 1 Axes>"
      ]
     },
     "metadata": {
      "needs_background": "light"
     },
     "output_type": "display_data"
    }
   ],
   "source": [
    "# Implementação como StatsModel \n",
    "\n",
    "# Traço da Reta de projeção para o Curso de Adminstração\n",
    "plt.scatter(x, y,  color = 'green')\n",
    "\n",
    "# Identificação da variável independente: Número de bolsas \n",
    "X_sm = sm.add_constant(x)\n",
    "\n",
    "# OLS vem de Ordinary Least Squares e o método fit irá treinar o modelo\n",
    "# Variável dependente: Número de bolsas do curso\n",
    "results = sm.OLS(y, X_sm).fit()\n",
    "plt.plot(x, results.predict(X_sm), color = 'red', linewidth = 1)\n",
    "plt.xlabel('Número Totais de Bolsas')\n",
    "plt.ylabel('Bolsas em Administração')\n",
    "plt.title('Curso Administração x Bolsas Totais Prouni')\n",
    "plt.grid(True)\n",
    "plt.show()"
   ]
  },
  {
   "cell_type": "code",
   "execution_count": 29,
   "metadata": {},
   "outputs": [
    {
     "data": {
      "image/png": "[encoded data removed]",
      "text/plain": [
       "<Figure size 432x288 with 1 Axes>"
      ]
     },
     "metadata": {
      "needs_background": "light"
     },
     "output_type": "display_data"
    }
   ],
   "source": [
    "# Traço da Reta de projeção para o Curso de Direito\n",
    "plt.scatter(x, y,  color = 'blue')\n",
    "\n",
    "# Identificação da variável independente: Número de bolsas \n",
    "X_sm = sm.add_constant(x)\n",
    "\n",
    "# OLS vem de Ordinary Least Squares e o método fit irá treinar o modelo\n",
    "# Variável dependente: Número de bolsas do curso\n",
    "results = sm.OLS(y, X_sm).fit()\n",
    "plt.plot(x, results.predict(X_sm), color = 'red', linewidth = 1)\n",
    "plt.xlabel('Número Totais de Bolsas')\n",
    "plt.ylabel('Bolsas em Direito')\n",
    "plt.title('Curso Direito x Bolsas Totais Prouni')\n",
    "plt.grid(True)\n",
    "plt.show()"
   ]
  },
  {
   "cell_type": "markdown",
   "metadata": {},
   "source": [
    "### Coeficiente R²: diz o quanto o meu modelo explica seus resultados. \n",
    "### É um valor entre 0 e 1. Quanto mais próximo de 1, melhor."
   ]
  },
  {
   "cell_type": "code",
   "execution_count": 32,
   "metadata": {},
   "outputs": [
    {
     "data": {
      "text/html": [
       "<table class=\"simpletable\">\n",
       "<caption>OLS Regression Results</caption>\n",
       "<tr>\n",
       "  <th>Dep. Variable:</th>    <td>QUANTIDADE_BOLSAS</td> <th>  R-squared:         </th> <td>   0.741</td>\n",
       "</tr>\n",
       "<tr>\n",
       "  <th>Model:</th>                   <td>OLS</td>        <th>  Adj. R-squared:    </th> <td>   0.713</td>\n",
       "</tr>\n",
       "<tr>\n",
       "  <th>Method:</th>             <td>Least Squares</td>   <th>  F-statistic:       </th> <td>   25.78</td>\n",
       "</tr>\n",
       "<tr>\n",
       "  <th>Date:</th>             <td>Sat, 09 Mar 2019</td>  <th>  Prob (F-statistic):</th> <td>0.000665</td>\n",
       "</tr>\n",
       "<tr>\n",
       "  <th>Time:</th>                 <td>14:46:32</td>      <th>  Log-Likelihood:    </th> <td> -38.400</td>\n",
       "</tr>\n",
       "<tr>\n",
       "  <th>No. Observations:</th>      <td>    11</td>       <th>  AIC:               </th> <td>   80.80</td>\n",
       "</tr>\n",
       "<tr>\n",
       "  <th>Df Residuals:</th>          <td>     9</td>       <th>  BIC:               </th> <td>   81.60</td>\n",
       "</tr>\n",
       "<tr>\n",
       "  <th>Df Model:</th>              <td>     1</td>       <th>                     </th>     <td> </td>   \n",
       "</tr>\n",
       "<tr>\n",
       "  <th>Covariance Type:</th>      <td>nonrobust</td>     <th>                     </th>     <td> </td>   \n",
       "</tr>\n",
       "</table>\n",
       "<table class=\"simpletable\">\n",
       "<tr>\n",
       "    <td></td>       <th>coef</th>     <th>std err</th>      <th>t</th>      <th>P>|t|</th>  <th>[0.025</th>    <th>0.975]</th>  \n",
       "</tr>\n",
       "<tr>\n",
       "  <th>const</th> <td>   -4.7730</td> <td>    8.949</td> <td>   -0.533</td> <td> 0.607</td> <td>  -25.017</td> <td>   15.471</td>\n",
       "</tr>\n",
       "<tr>\n",
       "  <th>x1</th>    <td>    0.1014</td> <td>    0.020</td> <td>    5.078</td> <td> 0.001</td> <td>    0.056</td> <td>    0.147</td>\n",
       "</tr>\n",
       "</table>\n",
       "<table class=\"simpletable\">\n",
       "<tr>\n",
       "  <th>Omnibus:</th>       <td> 0.082</td> <th>  Durbin-Watson:     </th> <td>   1.267</td>\n",
       "</tr>\n",
       "<tr>\n",
       "  <th>Prob(Omnibus):</th> <td> 0.960</td> <th>  Jarque-Bera (JB):  </th> <td>   0.249</td>\n",
       "</tr>\n",
       "<tr>\n",
       "  <th>Skew:</th>          <td> 0.155</td> <th>  Prob(JB):          </th> <td>   0.883</td>\n",
       "</tr>\n",
       "<tr>\n",
       "  <th>Kurtosis:</th>      <td> 2.331</td> <th>  Cond. No.          </th> <td>1.51e+03</td>\n",
       "</tr>\n",
       "</table><br/><br/>Warnings:<br/>[1] Standard Errors assume that the covariance matrix of the errors is correctly specified.<br/>[2] The condition number is large, 1.51e+03. This might indicate that there are<br/>strong multicollinearity or other numerical problems."
      ],
      "text/plain": [
       "<class 'statsmodels.iolib.summary.Summary'>\n",
       "\"\"\"\n",
       "                            OLS Regression Results                            \n",
       "==============================================================================\n",
       "Dep. Variable:      QUANTIDADE_BOLSAS   R-squared:                       0.741\n",
       "Model:                            OLS   Adj. R-squared:                  0.713\n",
       "Method:                 Least Squares   F-statistic:                     25.78\n",
       "Date:                Sat, 09 Mar 2019   Prob (F-statistic):           0.000665\n",
       "Time:                        14:46:32   Log-Likelihood:                -38.400\n",
       "No. Observations:                  11   AIC:                             80.80\n",
       "Df Residuals:                       9   BIC:                             81.60\n",
       "Df Model:                           1                                         \n",
       "Covariance Type:            nonrobust                                         \n",
       "==============================================================================\n",
       "                 coef    std err          t      P>|t|      [0.025      0.975]\n",
       "------------------------------------------------------------------------------\n",
       "const         -4.7730      8.949     -0.533      0.607     -25.017      15.471\n",
       "x1             0.1014      0.020      5.078      0.001       0.056       0.147\n",
       "==============================================================================\n",
       "Omnibus:                        0.082   Durbin-Watson:                   1.267\n",
       "Prob(Omnibus):                  0.960   Jarque-Bera (JB):                0.249\n",
       "Skew:                           0.155   Prob(JB):                        0.883\n",
       "Kurtosis:                       2.331   Cond. No.                     1.51e+03\n",
       "==============================================================================\n",
       "\n",
       "Warnings:\n",
       "[1] Standard Errors assume that the covariance matrix of the errors is correctly specified.\n",
       "[2] The condition number is large, 1.51e+03. This might indicate that there are\n",
       "strong multicollinearity or other numerical problems.\n",
       "\"\"\""
      ]
     },
     "execution_count": 32,
     "metadata": {},
     "output_type": "execute_result"
    }
   ],
   "source": [
    "### Dados estatísticos do Modelo de Dados \n",
    "results.summary()"
   ]
  },
  {
   "cell_type": "markdown",
   "metadata": {},
   "source": [
    "### Simulação de Projeção de Número de bolsas"
   ]
  },
  {
   "cell_type": "code",
   "execution_count": 59,
   "metadata": {},
   "outputs": [
    {
     "name": "stdout",
     "output_type": "stream",
     "text": [
      "Número de bolsas de direito 38\n"
     ]
    }
   ],
   "source": [
    "print(\"Número de bolsas de direito %.0f\" % results.predict([1, 425]))"
   ]
  },
  {
   "cell_type": "markdown",
   "metadata": {},
   "source": [
    "### O método fit() aprende os parâmetros do modelo de regressão linear simples:"
   ]
  },
  {
   "cell_type": "code",
   "execution_count": 31,
   "metadata": {},
   "outputs": [
    {
     "data": {
      "image/png": "[encoded data removed]",
      "text/plain": [
       "<IPython.core.display.Image object>"
      ]
     },
     "execution_count": 31,
     "metadata": {},
     "output_type": "execute_result"
    }
   ],
   "source": [
    "from IPython.display import Image\n",
    "Image('linear.png')"
   ]
  }
 ],
 "metadata": {
  "kernelspec": {
   "display_name": "Python 3",
   "language": "python",
   "name": "python3"
  },
  "language_info": {
   "codemirror_mode": {
    "name": "ipython",
    "version": 3
   },
   "file_extension": ".py",
   "mimetype": "text/x-python",
   "name": "python",
   "nbconvert_exporter": "python",
   "pygments_lexer": "ipython3",
   "version": "3.7.1"
  }
 },
 "nbformat": 4,
 "nbformat_minor": 2
}
