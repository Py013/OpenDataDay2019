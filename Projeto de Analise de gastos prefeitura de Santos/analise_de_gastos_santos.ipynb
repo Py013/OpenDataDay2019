{
 "cells": [
  {
   "cell_type": "code",
   "execution_count": 10,
   "metadata": {
    "_uuid": "8f2839f25d086af736a60e9eeb907d3b93b6e0e5",
    "_cell_guid": "b1076dfc-b9ad-4769-8c92-a6c4dae69d19",
    "trusted": true
   },
   "outputs": [
    {
     "name": "stdout",
     "output_type": "stream",
     "text": [
      "['despesassantos2018', 'open-datat-dat-py013-tce']\n"
     ]
    }
   ],
   "source": [
    "# This Python 3 environment comes with many helpful analytics libraries installed\n",
    "# It is defined by the kaggle/python docker image: https://github.com/kaggle/docker-python\n",
    "# For example, here's several helpful packages to load in \n",
    "import numpy as np # linear algebra\n",
    "import pandas as pd # data processing, CSV file I/O (e.g. pd.read_csv)\n",
    "import matplotlib.pyplot as plt\n",
    "\n",
    "# Input data files are available in the \"../input/\" directory.\n",
    "# For example, running this (by clicking run or pressing Shift+Enter) will list the files in the input directory\n",
    "\n",
    "import os\n",
    "print(os.listdir(\"../input/\"))\n",
    "\n",
    "# Any results you write to the current directory are saved as output."
   ]
  },
  {
   "cell_type": "code",
   "execution_count": 11,
   "metadata": {
    "_cell_guid": "79c7e3d0-c299-4dcb-8224-4455121ee9b0",
    "_uuid": "d629ff2d2480ee46fbb7e2d37f6b5fab8052498a",
    "trusted": true,
    "scrolled": true
   },
   "outputs": [],
   "source": [
    "df_santos = pd.read_csv('../input/despesassantos2018/despesas-santos-2018-utf8.csv', sep=';')"
   ]
  },
  {
   "cell_type": "code",
   "execution_count": 12,
   "metadata": {
    "trusted": true,
    "_uuid": "3d35580e1681a01e8d65169d3280cdfb96535285"
   },
   "outputs": [
    {
     "data": {
      "text/html": [
       "<div>\n<style scoped>\n    .dataframe tbody tr th:only-of-type {\n        vertical-align: middle;\n    }\n\n    .dataframe tbody tr th {\n        vertical-align: top;\n    }\n\n    .dataframe thead th {\n        text-align: right;\n    }\n</style>\n<table border=\"1\" class=\"dataframe\">\n  <thead>\n    <tr style=\"text-align: right;\">\n      <th></th>\n      <th>id_despesa_detalhe</th>\n      <th>ano_exercicio</th>\n      <th>ds_municipio</th>\n      <th>ds_orgao</th>\n      <th>mes_referencia</th>\n      <th>mes_ref_extenso</th>\n      <th>tp_despesa</th>\n      <th>nr_empenho</th>\n      <th>identificador_despesa</th>\n      <th>ds_despesa</th>\n      <th>dt_emissao_despesa</th>\n      <th>vl_despesa</th>\n      <th>ds_funcao_governo</th>\n      <th>ds_subfuncao_governo</th>\n      <th>cd_programa</th>\n      <th>ds_programa</th>\n      <th>cd_acao</th>\n      <th>ds_acao</th>\n      <th>ds_fonte_recurso</th>\n      <th>ds_cd_aplicacao_fixo</th>\n      <th>ds_modalidade_lic</th>\n      <th>ds_elemento</th>\n      <th>historico_despesa</th>\n    </tr>\n  </thead>\n  <tbody>\n    <tr>\n      <th>0</th>\n      <td>392579737</td>\n      <td>2018</td>\n      <td>Santos</td>\n      <td>PREFEITURA MUNICIPAL DE SANTOS</td>\n      <td>3</td>\n      <td>março</td>\n      <td>Empenhado</td>\n      <td>5174-2018</td>\n      <td>PESSOA FÍSICA - 603888</td>\n      <td>ANISIO XAVIER TEIXEIRA JUNIOR</td>\n      <td>08/03/2018</td>\n      <td>600.0</td>\n      <td>URBANISMO</td>\n      <td>SERVIÇOS URBNOS</td>\n      <td>103</td>\n      <td>SERVICOS PUBLICOS</td>\n      <td>2262</td>\n      <td>ZOI - SUBPR. DA ZONA DA ORLA E INTERMEDIINTERM...</td>\n      <td>TESOURO</td>\n      <td>0110 - GERAL</td>\n      <td>OUTROS/NÃO APLICÁVEL</td>\n      <td>33903099 - OUTROS MATERIAIS DE CONSUMO</td>\n      <td>111.660-  ADIANTAMENTO AO MESMO.**</td>\n    </tr>\n  </tbody>\n</table>\n</div>"
      ],
      "text/plain": [
       "   id_despesa_detalhe                 ...                                   historico_despesa\n0           392579737                 ...                  111.660-  ADIANTAMENTO AO MESMO.**\n\n[1 rows x 23 columns]"
      ]
     },
     "execution_count": 12,
     "metadata": {},
     "output_type": "execute_result"
    }
   ],
   "source": [
    " # Parsing values to float\n",
    "df_santos['vl_despesa'] = df_santos['vl_despesa'].str.replace(',', '.')\n",
    "df_santos['vl_despesa'] = pd.to_numeric(df_santos['vl_despesa'])\n",
    "df_santos.head(1)"
   ]
  },
  {
   "cell_type": "code",
   "execution_count": 13,
   "metadata": {
    "trusted": true,
    "_uuid": "41b5e8214240db71d9f726944f7886e201adffb3",
    "scrolled": false
   },
   "outputs": [],
   "source": [
    "df_sum_elemento = df_santos[['ds_funcao_governo', 'vl_despesa']].groupby('ds_funcao_governo').sum()\n",
    "df_sum_elemento = df_sum_elemento.sort_values(by='vl_despesa', ascending=False)"
   ]
  },
  {
   "cell_type": "code",
   "execution_count": 14,
   "metadata": {
    "trusted": true,
    "_uuid": "2628eb709733f5743e063cabf60e33927ec37bda"
   },
   "outputs": [],
   "source": [
    "df_top_five = df_sum_elemento.head(5)\n",
    "df_last_five = df_sum_elemento.tail(5)"
   ]
  },
  {
   "cell_type": "code",
   "execution_count": 15,
   "metadata": {
    "trusted": true,
    "_uuid": "68cd442cdfe7a0f429857f71bba3a97a2cc83da5"
   },
   "outputs": [
    {
     "data": {
      "image/png": "[encoded data removed]",
      "text/plain": [
       "<Figure size 648x216 with 1 Axes>"
      ]
     },
     "metadata": {},
     "output_type": "display_data"
    }
   ],
   "source": [
    "plt.figure(1, figsize=(9, 3))\n",
    "plt.bar(df_top_five.index, df_top_five['vl_despesa'], width=0.4, color='green')\n",
    "plt.show()"
   ]
  },
  {
   "cell_type": "code",
   "execution_count": 16,
   "metadata": {
    "trusted": true,
    "_uuid": "566f63745aa51bb208728f38aa7751b829d2b179"
   },
   "outputs": [
    {
     "data": {
      "image/png": "[encoded data removed]",
      "text/plain": [
       "<Figure size 792x216 with 1 Axes>"
      ]
     },
     "metadata": {},
     "output_type": "display_data"
    }
   ],
   "source": [
    "plt.figure(1, figsize=(11, 3))\n",
    "plt.bar(df_last_five.index, df_last_five['vl_despesa'], width=0.3, color=\"red\")\n",
    "plt.show()"
   ]
  }
 ],
 "metadata": {
  "kernelspec": {
   "display_name": "Python 3",
   "language": "python",
   "name": "python3"
  },
  "language_info": {
   "name": "python",
   "version": "3.6.6",
   "mimetype": "text/x-python",
   "codemirror_mode": {
    "name": "ipython",
    "version": 3
   },
   "pygments_lexer": "ipython3",
   "nbconvert_exporter": "python",
   "file_extension": ".py"
  }
 },
 "nbformat": 4,
 "nbformat_minor": 1
}
